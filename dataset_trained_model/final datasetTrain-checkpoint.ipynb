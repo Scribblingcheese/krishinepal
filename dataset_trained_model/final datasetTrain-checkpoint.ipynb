{
 "cells": [
  {
   "cell_type": "code",
   "execution_count": 8,
   "id": "b90c4849",
   "metadata": {},
   "outputs": [],
   "source": [
    "import pandas as pd\n",
    "import numpy as np\n",
    "\n",
    "import seaborn as sns\n",
    "import matplotlib.pyplot as plt\n",
    "\n",
    "import warnings\n",
    "import os\n",
    "\n",
    "from sklearn.model_selection import train_test_split\n",
    "import pickle\n",
    "\n",
    "from sklearn.naive_bayes import GaussianNB\n",
    "from sklearn.svm import SVC\n",
    "from sklearn.neighbors import KNeighborsClassifier\n",
    "from sklearn.tree import DecisionTreeClassifier\n",
    "from sklearn.ensemble import RandomForestClassifier\n",
    "\n",
    "from sklearn.preprocessing import StandardScaler\n",
    "from sklearn.metrics import accuracy_score, classification_report, confusion_matrix\n",
    "import sklearn.metrics as metrics\n",
    "\n",
    "from sklearn.model_selection import KFold\n",
    "\n",
    "warnings.filterwarnings('ignore')\n",
    "\n",
    "\n",
    "#Saving a array of models\n",
    "def save_item(model,filename):\n",
    "    pickle.dump(model, open(filename, 'wb'))\n",
    "\n"
   ]
  },
  {
   "cell_type": "code",
   "execution_count": 6,
   "id": "c6e6876e",
   "metadata": {},
   "outputs": [
    {
     "data": {
      "text/html": [
       "<div>\n",
       "<style scoped>\n",
       "    .dataframe tbody tr th:only-of-type {\n",
       "        vertical-align: middle;\n",
       "    }\n",
       "\n",
       "    .dataframe tbody tr th {\n",
       "        vertical-align: top;\n",
       "    }\n",
       "\n",
       "    .dataframe thead th {\n",
       "        text-align: right;\n",
       "    }\n",
       "</style>\n",
       "<table border=\"1\" class=\"dataframe\">\n",
       "  <thead>\n",
       "    <tr style=\"text-align: right;\">\n",
       "      <th></th>\n",
       "      <th>N</th>\n",
       "      <th>P</th>\n",
       "      <th>K</th>\n",
       "      <th>temperature</th>\n",
       "      <th>humidity</th>\n",
       "      <th>ph</th>\n",
       "      <th>rainfall</th>\n",
       "      <th>label</th>\n",
       "    </tr>\n",
       "  </thead>\n",
       "  <tbody>\n",
       "    <tr>\n",
       "      <th>0</th>\n",
       "      <td>90</td>\n",
       "      <td>42</td>\n",
       "      <td>43</td>\n",
       "      <td>20.879744</td>\n",
       "      <td>82.002744</td>\n",
       "      <td>6.502985</td>\n",
       "      <td>202.935536</td>\n",
       "      <td>rice</td>\n",
       "    </tr>\n",
       "    <tr>\n",
       "      <th>1</th>\n",
       "      <td>85</td>\n",
       "      <td>58</td>\n",
       "      <td>41</td>\n",
       "      <td>21.770462</td>\n",
       "      <td>80.319644</td>\n",
       "      <td>7.038096</td>\n",
       "      <td>226.655537</td>\n",
       "      <td>rice</td>\n",
       "    </tr>\n",
       "    <tr>\n",
       "      <th>2</th>\n",
       "      <td>60</td>\n",
       "      <td>55</td>\n",
       "      <td>44</td>\n",
       "      <td>23.004459</td>\n",
       "      <td>82.320763</td>\n",
       "      <td>7.840207</td>\n",
       "      <td>263.964248</td>\n",
       "      <td>rice</td>\n",
       "    </tr>\n",
       "    <tr>\n",
       "      <th>3</th>\n",
       "      <td>74</td>\n",
       "      <td>35</td>\n",
       "      <td>40</td>\n",
       "      <td>26.491096</td>\n",
       "      <td>80.158363</td>\n",
       "      <td>6.980401</td>\n",
       "      <td>242.864034</td>\n",
       "      <td>rice</td>\n",
       "    </tr>\n",
       "    <tr>\n",
       "      <th>4</th>\n",
       "      <td>78</td>\n",
       "      <td>42</td>\n",
       "      <td>42</td>\n",
       "      <td>20.130175</td>\n",
       "      <td>81.604873</td>\n",
       "      <td>7.628473</td>\n",
       "      <td>262.717340</td>\n",
       "      <td>rice</td>\n",
       "    </tr>\n",
       "    <tr>\n",
       "      <th>...</th>\n",
       "      <td>...</td>\n",
       "      <td>...</td>\n",
       "      <td>...</td>\n",
       "      <td>...</td>\n",
       "      <td>...</td>\n",
       "      <td>...</td>\n",
       "      <td>...</td>\n",
       "      <td>...</td>\n",
       "    </tr>\n",
       "    <tr>\n",
       "      <th>2195</th>\n",
       "      <td>107</td>\n",
       "      <td>34</td>\n",
       "      <td>32</td>\n",
       "      <td>26.774637</td>\n",
       "      <td>66.413269</td>\n",
       "      <td>6.780064</td>\n",
       "      <td>177.774507</td>\n",
       "      <td>coffee</td>\n",
       "    </tr>\n",
       "    <tr>\n",
       "      <th>2196</th>\n",
       "      <td>99</td>\n",
       "      <td>15</td>\n",
       "      <td>27</td>\n",
       "      <td>27.417112</td>\n",
       "      <td>56.636362</td>\n",
       "      <td>6.086922</td>\n",
       "      <td>127.924610</td>\n",
       "      <td>coffee</td>\n",
       "    </tr>\n",
       "    <tr>\n",
       "      <th>2197</th>\n",
       "      <td>118</td>\n",
       "      <td>33</td>\n",
       "      <td>30</td>\n",
       "      <td>24.131797</td>\n",
       "      <td>67.225123</td>\n",
       "      <td>6.362608</td>\n",
       "      <td>173.322839</td>\n",
       "      <td>coffee</td>\n",
       "    </tr>\n",
       "    <tr>\n",
       "      <th>2198</th>\n",
       "      <td>117</td>\n",
       "      <td>32</td>\n",
       "      <td>34</td>\n",
       "      <td>26.272418</td>\n",
       "      <td>52.127394</td>\n",
       "      <td>6.758793</td>\n",
       "      <td>127.175293</td>\n",
       "      <td>coffee</td>\n",
       "    </tr>\n",
       "    <tr>\n",
       "      <th>2199</th>\n",
       "      <td>104</td>\n",
       "      <td>18</td>\n",
       "      <td>30</td>\n",
       "      <td>23.603016</td>\n",
       "      <td>60.396475</td>\n",
       "      <td>6.779833</td>\n",
       "      <td>140.937041</td>\n",
       "      <td>coffee</td>\n",
       "    </tr>\n",
       "  </tbody>\n",
       "</table>\n",
       "<p>2200 rows × 8 columns</p>\n",
       "</div>"
      ],
      "text/plain": [
       "        N   P   K  temperature   humidity        ph    rainfall   label\n",
       "0      90  42  43    20.879744  82.002744  6.502985  202.935536    rice\n",
       "1      85  58  41    21.770462  80.319644  7.038096  226.655537    rice\n",
       "2      60  55  44    23.004459  82.320763  7.840207  263.964248    rice\n",
       "3      74  35  40    26.491096  80.158363  6.980401  242.864034    rice\n",
       "4      78  42  42    20.130175  81.604873  7.628473  262.717340    rice\n",
       "...   ...  ..  ..          ...        ...       ...         ...     ...\n",
       "2195  107  34  32    26.774637  66.413269  6.780064  177.774507  coffee\n",
       "2196   99  15  27    27.417112  56.636362  6.086922  127.924610  coffee\n",
       "2197  118  33  30    24.131797  67.225123  6.362608  173.322839  coffee\n",
       "2198  117  32  34    26.272418  52.127394  6.758793  127.175293  coffee\n",
       "2199  104  18  30    23.603016  60.396475  6.779833  140.937041  coffee\n",
       "\n",
       "[2200 rows x 8 columns]"
      ]
     },
     "execution_count": 6,
     "metadata": {},
     "output_type": "execute_result"
    }
   ],
   "source": [
    "data = pd.read_csv('Crop_recommendation.csv')\n",
    "\n",
    "data"
   ]
  },
  {
   "cell_type": "code",
   "execution_count": 7,
   "id": "37d67b6f",
   "metadata": {},
   "outputs": [
    {
     "name": "stdout",
     "output_type": "stream",
     "text": [
      "Number of Instances and Attributes: (2200, 8)\n",
      "\n",
      "\n",
      "Dataset columns: Index(['N', 'P', 'K', 'temperature', 'humidity', 'ph', 'rainfall', 'label'], dtype='object')\n",
      "\n",
      "\n",
      "<class 'pandas.core.frame.DataFrame'>\n",
      "RangeIndex: 2200 entries, 0 to 2199\n",
      "Data columns (total 8 columns):\n",
      " #   Column       Non-Null Count  Dtype  \n",
      "---  ------       --------------  -----  \n",
      " 0   N            2200 non-null   int64  \n",
      " 1   P            2200 non-null   int64  \n",
      " 2   K            2200 non-null   int64  \n",
      " 3   temperature  2200 non-null   float64\n",
      " 4   humidity     2200 non-null   float64\n",
      " 5   ph           2200 non-null   float64\n",
      " 6   rainfall     2200 non-null   float64\n",
      " 7   label        2200 non-null   object \n",
      "dtypes: float64(4), int64(3), object(1)\n",
      "memory usage: 137.6+ KB\n",
      "Data types of each columns:  None\n"
     ]
    }
   ],
   "source": [
    "#Data Exploration:\n",
    "\n",
    "print(\"Number of Instances and Attributes:\", data.shape)\n",
    "print('\\n')\n",
    "\n",
    "print('Dataset columns:',data.columns)\n",
    "print('\\n')\n",
    "\n",
    "print('Data types of each columns: ', data.info())"
   ]
  },
  {
   "cell_type": "code",
   "execution_count": 8,
   "id": "ed4b18c7",
   "metadata": {},
   "outputs": [
    {
     "name": "stdout",
     "output_type": "stream",
     "text": [
      "Different crops are:\n",
      "\n",
      "   rice\n",
      "   maize\n",
      "   chickpea\n",
      "   kidneybeans\n",
      "   pigeonpeas\n",
      "   mothbeans\n",
      "   mungbean\n",
      "   blackgram\n",
      "   lentil\n",
      "   pomegranate\n",
      "   banana\n",
      "   mango\n",
      "   grapes\n",
      "   watermelon\n",
      "   muskmelon\n",
      "   apple\n",
      "   orange\n",
      "   papaya\n",
      "   coconut\n",
      "   cotton\n",
      "   jute\n",
      "   coffee\n",
      "\n",
      "\n",
      "Total no of different crops are: 22\n"
     ]
    }
   ],
   "source": [
    "#Target label values\n",
    "\n",
    "print(\"Different crops are:\\n\")\n",
    "for i in data['label'].unique():\n",
    "    print(\"   \"+i)\n",
    "\n",
    "print(\"\\n\\nTotal no of different crops are:\" , len((data['label'].unique())))"
   ]
  },
  {
   "cell_type": "code",
   "execution_count": 9,
   "id": "52eb157d",
   "metadata": {},
   "outputs": [
    {
     "name": "stdout",
     "output_type": "stream",
     "text": [
      "Number of Duplicates:  0\n",
      "No Duplicate values\n"
     ]
    }
   ],
   "source": [
    "#Checking Duplicates:\n",
    "\n",
    "count_dups = data.duplicated().sum()\n",
    "print(\"Number of Duplicates: \", count_dups)\n",
    "if count_dups >= 1:\n",
    "    data.drop_duplicates(inplace=True)\n",
    "    print('Duplicate values removed!')\n",
    "else:\n",
    "        print('No Duplicate values')"
   ]
  },
  {
   "cell_type": "code",
   "execution_count": 10,
   "id": "533d4338",
   "metadata": {},
   "outputs": [
    {
     "data": {
      "text/plain": [
       "N              0\n",
       "P              0\n",
       "K              0\n",
       "temperature    0\n",
       "humidity       0\n",
       "ph             0\n",
       "rainfall       0\n",
       "label          0\n",
       "dtype: int64"
      ]
     },
     "execution_count": 10,
     "metadata": {},
     "output_type": "execute_result"
    }
   ],
   "source": [
    "#Checking NULL values\n",
    "\n",
    "data.isnull().sum() #No null values"
   ]
  },
  {
   "cell_type": "code",
   "execution_count": 11,
   "id": "63ac179d",
   "metadata": {},
   "outputs": [
    {
     "data": {
      "text/plain": [
       "<Axes: >"
      ]
     },
     "execution_count": 11,
     "metadata": {},
     "output_type": "execute_result"
    },
    {
     "data": {
      "image/png": "[encoded data removed]",
      "text/plain": [
       "<Figure size 640x480 with 1 Axes>"
      ]
     },
     "metadata": {},
     "output_type": "display_data"
    }
   ],
   "source": [
    "#Crop vs count ( no of instances )\n",
    "\n",
    "data['label'].value_counts().plot(kind='bar')"
   ]
  },
  {
   "cell_type": "code",
   "execution_count": 12,
   "id": "c5a50a38",
   "metadata": {},
   "outputs": [
    {
     "data": {
      "text/plain": [
       "<Axes: >"
      ]
     },
     "execution_count": 12,
     "metadata": {},
     "output_type": "execute_result"
    },
    {
     "data": {
      "image/png": "[encoded data removed]",
      "text/plain": [
       "<Figure size 640x480 with 2 Axes>"
      ]
     },
     "metadata": {},
     "output_type": "display_data"
    }
   ],
   "source": [
    "#Correlation Matrix \n",
    "\n",
    "sns.heatmap(data.corr())"
   ]
  },
  {
   "cell_type": "code",
   "execution_count": 13,
   "id": "2123d149",
   "metadata": {},
   "outputs": [],
   "source": [
    "#Data Splitting\n",
    "\n",
    "target = 'label'\n",
    "\n",
    "X = data.drop(target, axis=1)\n",
    "Y = data[target]\n",
    "\n",
    "X_train , X_test , Y_train , Y_test = train_test_split(X , Y , test_size=0.3)"
   ]
  },
  {
   "cell_type": "code",
   "execution_count": 14,
   "id": "de7aa596",
   "metadata": {},
   "outputs": [],
   "source": [
    "#Normalization using standard scaler\n",
    "\n",
    "normalization = StandardScaler()\n",
    "normalization.fit(X)\n",
    "\n",
    "save_item(normalization , 'normalization.pkl')\n"
   ]
  },
  {
   "cell_type": "code",
   "execution_count": 15,
   "id": "d93a9425",
   "metadata": {},
   "outputs": [],
   "source": [
    "# Creating 5 random subsets using K-FOLD\n",
    "\n",
    "kf = KFold(n_splits = 5 , shuffle=True)\n",
    "\n",
    "array = []\n",
    "for index in kf.split(data):\n",
    "  array.append(index[1])\n",
    "\n",
    "set1 = array[0]\n",
    "set2 = array[1]\n",
    "set3 = array[2]\n",
    "set4 = array[3]\n",
    "set5 = array[4]\n",
    "\n",
    "df1 = data.iloc[set1]\n",
    "df2 = data.iloc[set2]\n",
    "df3 = data.iloc[set3]\n",
    "df4 = data.iloc[set4]\n",
    "df5 = data.iloc[set5]"
   ]
  },
  {
   "cell_type": "code",
   "execution_count": 16,
   "id": "db6fde19",
   "metadata": {},
   "outputs": [],
   "source": [
    "Models = {}\n",
    "\n",
    "Models['Naive Bayes'] =[ GaussianNB() , df1]\n",
    "\n",
    "Models['SVM'] = [SVC() , df2]\n",
    "\n",
    "Models['KNN'] = [ KNeighborsClassifier() , df3]\n",
    "\n",
    "Models['Decision Tree'] = [ DecisionTreeClassifier() , df4]\n",
    "\n",
    "Models['Random Forest'] = [ RandomForestClassifier() , df5]"
   ]
  },
  {
   "cell_type": "code",
   "execution_count": 17,
   "id": "50906e12",
   "metadata": {},
   "outputs": [],
   "source": [
    "for model in Models:\n",
    "    data = Models[model][1]\n",
    "    \n",
    "    X = data.iloc[:,:-1]\n",
    "    Y = data.iloc[:,-1]\n",
    "    \n",
    "    X = normalization.transform(X)\n",
    "    \n",
    "    Models[model][0].fit(X , Y)"
   ]
  },
  {
   "cell_type": "code",
   "execution_count": 7,
   "id": "703c3d71",
   "metadata": {},
   "outputs": [
    {
     "ename": "NameError",
     "evalue": "name 'normalization' is not defined",
     "output_type": "error",
     "traceback": [
      "\u001b[1;31m---------------------------------------------------------------------------\u001b[0m",
      "\u001b[1;31mNameError\u001b[0m                                 Traceback (most recent call last)",
      "Cell \u001b[1;32mIn[7], line 3\u001b[0m\n\u001b[0;32m      1\u001b[0m \u001b[38;5;66;03m#Testing\u001b[39;00m\n\u001b[1;32m----> 3\u001b[0m X_test \u001b[38;5;241m=\u001b[39m normalization\u001b[38;5;241m.\u001b[39mtransform(X_test)\n\u001b[0;32m      5\u001b[0m accuracy_array \u001b[38;5;241m=\u001b[39m []\n\u001b[0;32m      6\u001b[0m confusion_matrix_array \u001b[38;5;241m=\u001b[39m []\n",
      "\u001b[1;31mNameError\u001b[0m: name 'normalization' is not defined"
     ]
    }
   ],
   "source": [
    "#Testing\n",
    "\n",
    "X_test = normalization.transform(X_test)\n",
    "\n",
    "accuracy_array = []\n",
    "confusion_matrix_array = []\n",
    "\n",
    "print(\"\\nAccuracy of the models are:\\n\")\n",
    "\n",
    "for i in Models:\n",
    "    \n",
    "    testing = Models[i][0].predict(X_test)\n",
    "    \n",
    "    v = accuracy_score(testing , Y_test) * 100\n",
    "    \n",
    "    confusion_matrix_array.append(confusion_matrix(testing , Y_test))\n",
    "    \n",
    "    accuracy_array.append(v)\n",
    "    \n",
    "    print(i ,\":\",v)\n",
    "    "
   ]
  },
  {
   "cell_type": "code",
   "execution_count": 19,
   "id": "2e3d7c0e",
   "metadata": {},
   "outputs": [
    {
     "data": {
      "text/plain": [
       "<Axes: >"
      ]
     },
     "execution_count": 19,
     "metadata": {},
     "output_type": "execute_result"
    },
    {
     "data": {
      "image/png": "[encoded data removed]",
      "text/plain": [
       "<Figure size 640x480 with 1 Axes>"
      ]
     },
     "metadata": {},
     "output_type": "display_data"
    }
   ],
   "source": [
    "#Comparision of accuracy's\n",
    "\n",
    "model_names = list(Models.keys())\n",
    "sns.barplot(y = model_names , x = accuracy_array)"
   ]
  },
  {
   "cell_type": "code",
   "execution_count": 20,
   "id": "882894fc",
   "metadata": {},
   "outputs": [],
   "source": [
    "#Saving a array of models\n",
    "\n",
    "array = list(Models.values())\n",
    "save_item(array, 'model.pkl')"
   ]
  },
  {
   "cell_type": "code",
   "execution_count": null,
   "id": "b646b906",
   "metadata": {},
   "outputs": [],
   "source": [
    "# Normalize the data\n",
    "scaler = StandardScaler()\n",
    "X_train = scaler.fit_transform(X_train)\n",
    "# Split the data into training and testing sets\n",
    "X_train, X_test, Y_train, Y_test = train_test_split(X, Y, test_size=0.3, random_state=42)\n",
    "X_test = scaler.transform(X_test)\n",
    "\n",
    "# Initialize models\n",
    "naive_bayes = GaussianNB()\n",
    "svm = SVC()\n",
    "knn = KNeighborsClassifier()\n",
    "decision_tree = DecisionTreeClassifier()\n",
    "random_forest = RandomForestClassifier()\n",
    "\n",
    "# Train models\n",
    "naive_bayes.fit(X_train, Y_train)\n",
    "svm.fit(X_train, Y_train)\n",
    "knn.fit(X_train, Y_train)\n",
    "decision_tree.fit(X_train, Y_train)\n",
    "random_forest.fit(X_train, Y_train)\n",
    "\n",
    "# Predictions\n",
    "nb_predictions = naive_bayes.predict(X_test)\n",
    "svm_predictions = svm.predict(X_test)\n",
    "knn_predictions = knn.predict(X_test)\n",
    "dt_predictions = decision_tree.predict(X_test)\n",
    "rf_predictions = random_forest.predict(X_test)\n",
    "def calculate_metrics(y_true, y_pred):\n",
    "    accuracy = accuracy_score(y_true, y_pred)\n",
    "    precision = precision_score(y_true, y_pred, average='weighted')\n",
    "    recall = recall_score(y_true, y_pred, average='weighted')\n",
    "    f1 = f1_score(y_true, y_pred, average='weighted')\n",
    "    return accuracy, precision, recall, f1\n",
    "\n",
    "nb_accuracy, nb_precision, nb_recall, nb_f1 = calculate_metrics(Y_test, nb_predictions)\n",
    "svm_accuracy, svm_precision, svm_recall, svm_f1 = calculate_metrics(Y_test, svm_predictions)\n",
    "knn_accuracy, knn_precision, knn_recall, knn_f1 = calculate_metrics(Y_test, knn_predictions)\n",
    "dt_accuracy, dt_precision, dt_recall, dt_f1 = calculate_metrics(Y_test, dt_predictions)\n",
    "rf_accuracy, rf_precision, rf_recall, rf_f1 = calculate_metrics(Y_test, rf_predictions)\n",
    "\n",
    "# Print metrics\n",
    "print(\"Naive Bayes:\")\n",
    "print(\"Accuracy:\", nb_accuracy)\n",
    "print(\"Precision:\", nb_precision)\n",
    "print(\"Recall:\", nb_recall)\n",
    "print(\"F1 Score:\", nb_f1)\n",
    "print()\n",
    "\n",
    "print(\"SVM:\")\n",
    "print(\"Accuracy:\", svm_accuracy)\n",
    "print(\"Precision:\", svm_precision)\n",
    "print(\"Recall:\", svm_recall)\n",
    "print(\"F1 Score:\", svm_f1)\n",
    "print()\n",
    "\n",
    "print(\"KNN:\")\n",
    "print(\"Accuracy:\", knn_accuracy)\n",
    "print(\"Precision:\", knn_precision)\n",
    "print(\"Recall:\", knn_recall)\n",
    "print(\"F1 Score:\", knn_f1)\n",
    "print()\n",
    "\n",
    "print(\"Decision Tree:\")\n",
    "print(\"Accuracy:\", dt_accuracy)\n",
    "print(\"Precision:\", dt_precision)\n",
    "print(\"Recall:\", dt_recall)\n",
    "print(\"F1 Score:\", dt_f1)\n",
    "print()\n",
    "\n",
    "print(\"Random Forest:\")\n",
    "print(\"Accuracy:\", rf_accuracy)\n",
    "print(\"Precision:\", rf_precision)\n",
    "print(\"Recall:\", rf_recall)\n",
    "print(\"F1 Score:\", rf_f1)"
   ]
  }
 ],
 "metadata": {
  "kernelspec": {
   "display_name": "Python 3 (ipykernel)",
   "language": "python",
   "name": "python3"
  },
  "language_info": {
   "codemirror_mode": {
    "name": "ipython",
    "version": 3
   },
   "file_extension": ".py",
   "mimetype": "text/x-python",
   "name": "python",
   "nbconvert_exporter": "python",
   "pygments_lexer": "ipython3",
   "version": "3.11.4"
  }
 },
 "nbformat": 4,
 "nbformat_minor": 5
}
